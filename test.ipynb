{
 "cells": [
  {
   "cell_type": "code",
   "execution_count": 4,
   "metadata": {},
   "outputs": [
    {
     "name": "stdout",
     "output_type": "stream",
     "text": [
      "['RELP']\n"
     ]
    }
   ],
   "source": [
    "import pandas as pd\n",
    "import numpy as np\n",
    "from stratified_dataset import ParallelStratifiedSynthesizer\n",
    "from snsynth.mst import MSTSynthesizer\n",
    "from snsynth.aim import AIMSynthesizer\n",
    "from gem_synthesizer import GEMSynthesizer\n",
    "import dill\n",
    "from data_utils import get_employment\n",
    "import itertools\n",
    "import os\n",
    "from IPython.display import clear_output\n",
    "from stratified_dataset import StratifiedDataset\n",
    "import warnings\n",
    "warnings.filterwarnings('ignore')\n",
    "\n",
    "all_data, features, target, group = get_employment()\n",
    "\n",
    "df = all_data.copy()\n",
    "df = df.drop(columns=['CIT', 'MIG', 'DEAR', 'DEYE', 'NATIVITY', 'ANC'])\n"
   ]
  },
  {
   "cell_type": "code",
   "execution_count": 85,
   "metadata": {},
   "outputs": [],
   "source": [
    "with open('models/MSTSynthesizer_epsilon_1.0_SEX_RAC1P_seed_0.dill', \"rb\") as file:\n",
    "    model = dill.load(file)\n",
    "synth_df = model.sample(len(df))"
   ]
  },
  {
   "cell_type": "code",
   "execution_count": 88,
   "metadata": {},
   "outputs": [],
   "source": [
    "with open('models/MSTSynthesizer_epsilon_1.0_seed_0.dill', \"rb\") as file:\n",
    "    model = dill.load(file)\n",
    "synth_df = model.sample(len(df))"
   ]
  },
  {
   "cell_type": "code",
   "execution_count": 89,
   "metadata": {},
   "outputs": [],
   "source": [
    "def get_subgroup_key(group, groupby_cols):\n",
    "    key = []\n",
    "    for col in groupby_cols:\n",
    "        unique_values = group[col].unique()\n",
    "        if len(unique_values) == 1:\n",
    "            key.append((col, unique_values[0]))\n",
    "        else:\n",
    "            raise ValueError(f\"More than one unique value found for column '{col}' in the given group.\")\n",
    "    return tuple(key)\n",
    "\n",
    "def create_subgroups_dict(X, groupby_cols):\n",
    "    subgroups = {}\n",
    "    for _, group in X.groupby(groupby_cols):\n",
    "        key = get_subgroup_key(group, groupby_cols)\n",
    "        subgroups[key] = group\n",
    "    return subgroups\n",
    "\n",
    "def parity_error_synth_data(X, X_prime, groupby_cols, f, omega):\n",
    "    subgroups_real = create_subgroups_dict(X, groupby_cols)\n",
    "    subgroups_synth = create_subgroups_dict(X_prime, groupby_cols)\n",
    "    print(len(subgroups_real.keys()))\n",
    "    print(len(subgroups_synth.keys()))\n",
    "    f_values_real = []\n",
    "    f_values_synth = []\n",
    "\n",
    "    # Calculate f and M values for each stratum\n",
    "    for key, s in subgroups_real.items():\n",
    "        f_value_real = f(s)\n",
    "        f_values_real.append(f_value_real)\n",
    "        \n",
    "        if key in subgroups_synth:\n",
    "            f_value_synth = f(subgroups_synth[key])\n",
    "        else:\n",
    "            f_value_synth = f(X_prime)\n",
    "\n",
    "        f_values_synth.append(f_value_synth)\n",
    "\n",
    "    # Calculate the global f and M values\n",
    "    f_global = f(X)\n",
    "    f_synth_global = f(X_prime)\n",
    "\n",
    "    # Compute the parity error\n",
    "    beta = omega * abs(f_global - f_synth_global) + sum([abs(t - s) for t, s in zip(f_values_real, f_values_synth)])\n",
    "\n",
    "    return beta\n",
    "\n",
    "def f(df, col='ESR'):\n",
    "    return df[col].mean()\n",
    "\n"
   ]
  },
  {
   "cell_type": "code",
   "execution_count": 90,
   "metadata": {},
   "outputs": [
    {
     "name": "stdout",
     "output_type": "stream",
     "text": [
      "18\n",
      "18\n",
      "Parity error: 1.6401893568599504\n"
     ]
    }
   ],
   "source": [
    "# Define the groupby columns\n",
    "strata_cols = ['SEX', 'RAC1P']\n",
    "\n",
    "# Calculate the parity error\n",
    "omega = 0.0\n",
    "error = parity_error_synth_data(df, synth_df, strata_cols, f, omega)\n",
    "print(\"Parity error:\", error)"
   ]
  },
  {
   "cell_type": "code",
   "execution_count": null,
   "metadata": {},
   "outputs": [],
   "source": [
    "import numpy as np\n",
    "import random\n",
    "\n",
    "def random_queries(num_queries, columns, min_values, max_values):\n",
    "    queries = []\n",
    "    for _ in range(num_queries):\n",
    "        query = {}\n",
    "        for col in columns:\n",
    "            query[col] = (random.uniform(min_values[col], max_values[col]), random.uniform(min_values[col], max_values[col]))\n",
    "        queries.append(query)\n",
    "    return queries\n",
    "\n",
    "def query_result(df, query):\n",
    "    mask = np.full(df.shape[0], True, dtype=bool)\n",
    "    for col, (min_val, max_val) in query.items():\n",
    "        mask &= (df[col] >= min_val) & (df[col] <= max_val)\n",
    "    return df[mask].shape[0]\n",
    "\n",
    "def f(X, X_prime, num_queries=10, columns=None):\n",
    "    if columns is None:\n",
    "        columns = X.columns\n",
    "    \n",
    "    min_values = {col: min(X[col].min(), X_prime[col].min()) for col in columns}\n",
    "    max_values = {col: max(X[col].max(), X_prime[col].max()) for col in columns}\n",
    "    \n",
    "    queries = random_queries(num_queries, columns, min_values, max_values)\n",
    "    errors = []\n",
    "    for query in queries:\n",
    "        result_real = query_result(X, query)\n",
    "        result_synth = query_result(X_prime, query)\n",
    "        error = abs(result_real - result_synth)\n",
    "        if result_real > 0:\n",
    "            error /= result_real\n",
    "        errors.append(error)\n",
    "    return np.mean(errors)"
   ]
  }
 ],
 "metadata": {
  "kernelspec": {
   "display_name": "Python 3",
   "language": "python",
   "name": "python3"
  },
  "language_info": {
   "codemirror_mode": {
    "name": "ipython",
    "version": 3
   },
   "file_extension": ".py",
   "mimetype": "text/x-python",
   "name": "python",
   "nbconvert_exporter": "python",
   "pygments_lexer": "ipython3",
   "version": "3.8.12"
  },
  "orig_nbformat": 4,
  "vscode": {
   "interpreter": {
    "hash": "6597d1ed23b894caf154b6750f098a8514a19e03807460ffd2d8425103778dc0"
   }
  }
 },
 "nbformat": 4,
 "nbformat_minor": 2
}
