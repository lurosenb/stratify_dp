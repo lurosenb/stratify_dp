{
 "cells": [
  {
   "cell_type": "code",
   "execution_count": 2,
   "metadata": {},
   "outputs": [],
   "source": [
    "import pandas as pd\n",
    "import numpy as np\n",
    "import matplotlib.pyplot as plt\n",
    "import seaborn as sns\n",
    "import os\n"
   ]
  },
  {
   "cell_type": "code",
   "execution_count": 3,
   "metadata": {},
   "outputs": [],
   "source": [
    "# load each tsv in data/ into dataframes\n",
    "dataframes = {}\n",
    "for file in os.listdir('data/'):\n",
    "    if file.endswith('.tsv'):\n",
    "        dataframes[file.replace('.tsv','')] = pd.read_csv('data/' + file, sep='\\t')\n",
    "    elif file.endswith('.csv'):\n",
    "        dataframes[file.replace('.csv','')] = pd.read_csv('data/' + file)"
   ]
  },
  {
   "cell_type": "code",
   "execution_count": 4,
   "metadata": {},
   "outputs": [],
   "source": [
    "# load protected_colunmns.json into dict\n",
    "import json\n",
    "with open('protected_columns.json') as f:\n",
    "    protected_columns = json.load(f)\n",
    "    "
   ]
  },
  {
   "cell_type": "code",
   "execution_count": 114,
   "metadata": {},
   "outputs": [],
   "source": [
    "from itertools import chain, combinations\n",
    "def powerset(iterable):\n",
    "    s = list(iterable)\n",
    "    return chain.from_iterable(combinations(s, r) for r in range(len(s)+1))\n",
    "\n",
    "def calculate_group_sizes(df, protected_columns, num_protected_columns=3):\n",
    "    \"\"\"\n",
    "    Calculates group sizes for protected classes in a dataframe.\n",
    "    \"\"\"\n",
    "\n",
    "    df = df[df.columns[~df.isnull().any()]]\n",
    "\n",
    "    # Get the powersets of all column combinations\n",
    "    vectors = []\n",
    "    for cols in list(powerset(protected_columns[:num_protected_columns])):\n",
    "        if len(cols) >= 1:\n",
    "            # NOTE: broken for texas due to non-numeric category in data\n",
    "            # print(df.groupby(list(cols)).size().reset_index(name='counts'))\n",
    "            vector = (df.groupby(list(cols)).size().reset_index(name='counts') / len(df))['counts'].values\n",
    "            vectors.append(vector)\n",
    "    \n",
    "    with_shape = [(v, v.shape[0]) for v in vectors]\n",
    "    vector_df = pd.DataFrame.from_records(with_shape, columns =['vector', 'shape'])\n",
    "    vector_df = vector_df.groupby('shape').agg({'vector':lambda x: list(x)}).reset_index()\n",
    "\n",
    "    # df = df[df.apply(lambda x: len(x['vector']) > 1, axis=1)]\n",
    "    vector_df = vector_df[(vector_df['shape'] > 3) & (vector_df['shape'] <= 50)]\n",
    "    return vector_df"
   ]
  },
  {
   "cell_type": "code",
   "execution_count": 115,
   "metadata": {},
   "outputs": [
    {
     "data": {
      "text/html": [
       "<div>\n",
       "<style scoped>\n",
       "    .dataframe tbody tr th:only-of-type {\n",
       "        vertical-align: middle;\n",
       "    }\n",
       "\n",
       "    .dataframe tbody tr th {\n",
       "        vertical-align: top;\n",
       "    }\n",
       "\n",
       "    .dataframe thead th {\n",
       "        text-align: right;\n",
       "    }\n",
       "</style>\n",
       "<table border=\"1\" class=\"dataframe\">\n",
       "  <thead>\n",
       "    <tr style=\"text-align: right;\">\n",
       "      <th></th>\n",
       "      <th>shape</th>\n",
       "      <th>vector</th>\n",
       "    </tr>\n",
       "  </thead>\n",
       "  <tbody>\n",
       "    <tr>\n",
       "      <th>1</th>\n",
       "      <td>4</td>\n",
       "      <td>[[0.25012350558245233, 0.24987649441754767, 0....</td>\n",
       "    </tr>\n",
       "    <tr>\n",
       "      <th>2</th>\n",
       "      <td>6</td>\n",
       "      <td>[[0.5598261041399071, 0.09806343246714752, 0.1...</td>\n",
       "    </tr>\n",
       "    <tr>\n",
       "      <th>3</th>\n",
       "      <td>8</td>\n",
       "      <td>[[0.12464183381088825, 0.12548167177156408, 0....</td>\n",
       "    </tr>\n",
       "    <tr>\n",
       "      <th>4</th>\n",
       "      <td>12</td>\n",
       "      <td>[[0.2814445212923624, 0.050044462009682836, 0....</td>\n",
       "    </tr>\n",
       "    <tr>\n",
       "      <th>5</th>\n",
       "      <td>24</td>\n",
       "      <td>[[0.09781642130224286, 0.14213022428613772, 0....</td>\n",
       "    </tr>\n",
       "    <tr>\n",
       "      <th>6</th>\n",
       "      <td>48</td>\n",
       "      <td>[[0.04880940618515957, 0.07020057306590258, 0....</td>\n",
       "    </tr>\n",
       "  </tbody>\n",
       "</table>\n",
       "</div>"
      ],
      "text/plain": [
       "   shape                                             vector\n",
       "1      4  [[0.25012350558245233, 0.24987649441754767, 0....\n",
       "2      6  [[0.5598261041399071, 0.09806343246714752, 0.1...\n",
       "3      8  [[0.12464183381088825, 0.12548167177156408, 0....\n",
       "4     12  [[0.2814445212923624, 0.050044462009682836, 0....\n",
       "5     24  [[0.09781642130224286, 0.14213022428613772, 0....\n",
       "6     48  [[0.04880940618515957, 0.07020057306590258, 0...."
      ]
     },
     "execution_count": 115,
     "metadata": {},
     "output_type": "execute_result"
    }
   ],
   "source": [
    "vector_df = calculate_group_sizes(dataframes['saw2018cross'], protected_columns['saw2018cross'])\n",
    "vector_df"
   ]
  },
  {
   "cell_type": "code",
   "execution_count": 116,
   "metadata": {},
   "outputs": [],
   "source": [
    "# Bootstrap calculate group sizes by resampling each dataframe\n",
    "# with replacement\n",
    "import random\n",
    "def bootstrap_calculate_group_sizes(datasets, B=100):\n",
    "    dataset_vectors = {}\n",
    "    for dataset in datasets:\n",
    "        df = datasets[dataset]\n",
    "        agg_df = pd.DataFrame(columns=['shape','vector'])\n",
    "        for _ in range(B):\n",
    "            df_b = df.sample(n=len(df), replace=True)\n",
    "            new_vectors = calculate_group_sizes(df_b, protected_columns[dataset])\n",
    "            if len(agg_df) == 0:\n",
    "                agg_df = new_vectors\n",
    "            else:\n",
    "                # merge new_vectors lists into agg_df\n",
    "                agg_df = pd.merge(agg_df, new_vectors, on='shape', sort=False)\n",
    "                agg_df['vector'] = agg_df['vector_x'] + agg_df['vector_y']\n",
    "                agg_df = agg_df.drop(['vector_x','vector_y'],axis=1)\n",
    "                \n",
    "        dataset_vectors[dataset] = agg_df\n",
    "    return dataset_vectors\n",
    "\n",
    "dataset_vectors = bootstrap_calculate_group_sizes({'saw2018cross': dataframes['saw2018cross']})\n",
    "\n",
    "def shuf_vecs(row):\n",
    "    all_vecs = row['vector']\n",
    "    row['vector'] = [random.sample(list(x), k=len(x)) for x in all_vecs]\n",
    "    return row\n",
    "\n",
    "dataset_vectors['saw2018cross'] = dataset_vectors['saw2018cross'].apply(lambda x: shuf_vecs(x), axis=1)"
   ]
  },
  {
   "cell_type": "code",
   "execution_count": 117,
   "metadata": {},
   "outputs": [
    {
     "name": "stdout",
     "output_type": "stream",
     "text": [
      "0.05882352941176471\n"
     ]
    },
    {
     "data": {
      "image/png": "[encoded data removed]",
      "text/plain": [
       "<Figure size 432x288 with 1 Axes>"
      ]
     },
     "metadata": {
      "needs_background": "light"
     },
     "output_type": "display_data"
    }
   ],
   "source": [
    "def plot_histogram_group_sizes(vector_df):\n",
    "    \"\"\"\n",
    "    Plots group sizes for protected classes in a dataframe.\n",
    "    \"\"\"\n",
    "    vectors_size = {}\n",
    "    def app(row):\n",
    "        arr = row['vector']\n",
    "        if row['shape'] not in vectors_size:\n",
    "            vectors_size[row['shape']] = []\n",
    "        for vec in arr:\n",
    "            vectors_size[row['shape']].append(vec.tolist())\n",
    "    _ = vector_df.apply(lambda row: app(row), axis=1)\n",
    "    all_group_sizes = []\n",
    "    for s, vectors in vectors_size.items():\n",
    "        for v in vectors:\n",
    "            [all_group_sizes.append(item) for item in v]\n",
    "    sns.histplot(all_group_sizes)\n",
    "    print(np.mean(all_group_sizes))\n",
    "\n",
    "plot_histogram_group_sizes(vector_df=vector_df)\n"
   ]
  },
  {
   "attachments": {},
   "cell_type": "markdown",
   "metadata": {},
   "source": [
    "https://github.com/ericsuh/dirichlet/blob/master/test/test_dirichlet.py\n",
    "pip install git+https://github.com/ericsuh/dirichlet.git"
   ]
  },
  {
   "cell_type": "code",
   "execution_count": 118,
   "metadata": {},
   "outputs": [
    {
     "name": "stdout",
     "output_type": "stream",
     "text": [
      "{'fp_alphas': array([0.91197911, 0.87173227, 0.87478507, 0.92536224, 0.89356857,\n",
      "       0.91312962]), 'fp_log': 481.03849536196105}\n"
     ]
    }
   ],
   "source": [
    "import dirichlet\n",
    "\n",
    "def fit_dir(row):\n",
    "    vector = np.array(row['vector'])\n",
    "    fp_alphas = dirichlet.mle(vector, method='fixedpoint')\n",
    "    # mp_alphas = dirichlet.mle(vector, method='meanprecision')\n",
    "    fp_log = dirichlet.loglikelihood(vector, fp_alphas)\n",
    "    # mp_log = dirichlet.loglikelihood(vector, mp_alphas)\n",
    "    dict_of_alphas = {\n",
    "        'fp_alphas': fp_alphas,\n",
    "        'fp_log': fp_log,\n",
    "        # 'mp_alphas': mp_alphas,\n",
    "        # 'mp_log': mp_log\n",
    "    }\n",
    "    return dict_of_alphas\n",
    "\n",
    "alphas_likelihoods = dataset_vectors['saw2018cross'].apply(lambda row: fit_dir(row), axis=1)\n",
    "print(alphas_likelihoods[1])\n",
    "# all_alphas = []\n",
    "# all_lls = []\n",
    "# for row in alphas_likelihoods:\n",
    "#     add = []\n",
    "#     l_l = []\n",
    "#     add.append(row[0]), add.append(row[2])\n",
    "#     l_l.append(row[1]), l_l.append(row[3])\n",
    "#     all_alphas.append([a for l in add for a in l])\n",
    "#     all_lls.append(l_l)\n",
    "\n",
    "# all_alphas = [[a] for l in all_alphas for a in l]\n",
    "# all_lls = [[a] for l in all_lls for a in l]\n",
    "# plot_alphas = pd.DataFrame.from_records(all_alphas, columns =['alphas'])\n",
    "# plot_lls = pd.DataFrame.from_records(all_lls, columns =['likelihood'])\n",
    "# plot_alphas.hist(range=(0, 100), bins=100)"
   ]
  },
  {
   "cell_type": "code",
   "execution_count": 119,
   "metadata": {},
   "outputs": [
    {
     "name": "stdout",
     "output_type": "stream",
     "text": [
      "{'fp_alphas': array([0.91197911, 0.87173227, 0.87478507, 0.92536224, 0.89356857,\n",
      "       0.91312962]), 'fp_log': 481.03849536196105}\n"
     ]
    }
   ],
   "source": [
    "print(alphas_likelihoods[1])"
   ]
  },
  {
   "cell_type": "code",
   "execution_count": null,
   "metadata": {},
   "outputs": [],
   "source": [
    "all_alphas = []\n",
    "all_lls = []\n",
    "for row in alphas_likelihoods:\n",
    "    add = []\n",
    "    l_l = []\n",
    "    add.append(row[0]), add.append(row[2])\n",
    "    l_l.append(row[1]), l_l.append(row[3])\n",
    "    all_alphas.append([a for l in add for a in l])\n",
    "    all_lls.append(l_l)\n",
    "\n",
    "all_alphas = [[a] for l in all_alphas for a in l]\n",
    "all_lls = [[a] for l in all_lls for a in l]\n",
    "plot_alphas = pd.DataFrame.from_records(all_alphas, columns =['alphas'])\n",
    "plot_lls = pd.DataFrame.from_records(all_lls, columns =['likelihood'])"
   ]
  },
  {
   "cell_type": "code",
   "execution_count": null,
   "metadata": {},
   "outputs": [
    {
     "data": {
      "text/plain": [
       "array([[<AxesSubplot:title={'center':'alphas'}>]], dtype=object)"
      ]
     },
     "metadata": {},
     "output_type": "display_data"
    },
    {
     "data": {
      "image/png": "[encoded data removed]",
      "text/plain": [
       "<Figure size 432x288 with 1 Axes>"
      ]
     },
     "metadata": {},
     "output_type": "display_data"
    }
   ],
   "source": [
    "plot_alphas.hist(range=(0, 100), bins=100)"
   ]
  },
  {
   "cell_type": "code",
   "execution_count": 7,
   "metadata": {},
   "outputs": [
    {
     "name": "stdout",
     "output_type": "stream",
     "text": [
      "[  0.    0.    0.1   0.3   1.    3.2  10.   31.6 100. ]\n"
     ]
    }
   ],
   "source": [
    "# log range array np\n",
    "import numpy as np\n",
    "print(np.round(np.logspace(-2, 2, 9), 1))\n"
   ]
  },
  {
   "cell_type": "code",
   "execution_count": null,
   "metadata": {},
   "outputs": [],
   "source": []
  }
 ],
 "metadata": {
  "kernelspec": {
   "display_name": "heuristic_fairness",
   "language": "python",
   "name": "python3"
  },
  "language_info": {
   "codemirror_mode": {
    "name": "ipython",
    "version": 3
   },
   "file_extension": ".py",
   "mimetype": "text/x-python",
   "name": "python",
   "nbconvert_exporter": "python",
   "pygments_lexer": "ipython3",
   "version": "3.8.12"
  },
  "orig_nbformat": 4,
  "vscode": {
   "interpreter": {
    "hash": "6597d1ed23b894caf154b6750f098a8514a19e03807460ffd2d8425103778dc0"
   }
  }
 },
 "nbformat": 4,
 "nbformat_minor": 2
}
